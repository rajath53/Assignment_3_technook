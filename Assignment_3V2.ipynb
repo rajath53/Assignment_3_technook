{
  "nbformat": 4,
  "nbformat_minor": 0,
  "metadata": {
    "colab": {
      "provenance": []
    },
    "kernelspec": {
      "name": "python3",
      "display_name": "Python 3"
    },
    "language_info": {
      "name": "python"
    }
  },
  "cells": [
    {
      "cell_type": "code",
      "source": [
        "# Python program for simple calculator\n",
        " \n",
        "# Function to add two numbers\n",
        "def add(num1, num2):\n",
        "    return num1 + num2\n",
        " \n",
        "# Function to subtract two numbers\n",
        "def subtract(num1, num2):\n",
        "    return num1 - num2\n",
        " \n",
        "# Function to multiply two numbers\n",
        "def multiply(num1, num2):\n",
        "    return num1 * num2\n",
        " \n",
        "# Function to divide two numbers\n",
        "def divide(num1, num2):\n",
        "    return num1 / num2\n",
        " \n",
        "print(\"Please select operation -\\n\" \\\n",
        "        \"1. Add\\n\" \\\n",
        "        \"2. Subtract\\n\" \\\n",
        "        \"3. Multiply\\n\" \\\n",
        "        \"4. Divide\\n\")\n",
        " \n",
        " \n",
        "# Take input from the user\n",
        "select = int(input(\"Select operations form 1, 2, 3, 4 :\"))\n",
        " \n",
        "number_1 = int(input(\"Enter first number: \"))\n",
        "number_2 = int(input(\"Enter second number: \"))\n",
        " \n",
        "if select == 1:\n",
        "    print(number_1, \"+\", number_2, \"=\",\n",
        "                    add(number_1, number_2))\n",
        " \n",
        "elif select == 2:\n",
        "    print(number_1, \"-\", number_2, \"=\",\n",
        "                    subtract(number_1, number_2))\n",
        " \n",
        "elif select == 3:\n",
        "    print(number_1, \"*\", number_2, \"=\",\n",
        "                    multiply(number_1, number_2))\n",
        " \n",
        "elif select == 4:\n",
        "    print(number_1, \"/\", number_2, \"=\",\n",
        "                    divide(number_1, number_2))\n",
        "else:\n",
        "    print(\"Invalid input\")"
      ],
      "metadata": {
        "colab": {
          "base_uri": "https://localhost:8080/"
        },
        "id": "7ykdHByCFMXm",
        "outputId": "a88b0ca7-8c23-4c84-e92f-f4720f657137"
      },
      "execution_count": 9,
      "outputs": [
        {
          "output_type": "stream",
          "name": "stdout",
          "text": [
            "Please select operation -\n",
            "1. Add\n",
            "2. Subtract\n",
            "3. Multiply\n",
            "4. Divide\n",
            "\n",
            "Select operations form 1, 2, 3, 4 :8\n",
            "Enter first number: 7\n",
            "Enter second number: 8\n",
            "Invalid input\n"
          ]
        }
      ]
    },
    {
      "cell_type": "code",
      "source": [
        "f=open(\"results.txt\",\"r\")\n",
        "print(f.read())"
      ],
      "metadata": {
        "colab": {
          "base_uri": "https://localhost:8080/"
        },
        "id": "qTFS8qJoFrhz",
        "outputId": "01472bc5-abdd-4021-8045-9588daab1b8f"
      },
      "execution_count": 10,
      "outputs": [
        {
          "output_type": "stream",
          "name": "stdout",
          "text": [
            "8 / 2 = 4.0\n",
            "15 + 25 = 40\n",
            "15 - 9 = 6\n",
            "5 * 2 = 10\n",
            "Invalid input\n"
          ]
        }
      ]
    }
  ]
}